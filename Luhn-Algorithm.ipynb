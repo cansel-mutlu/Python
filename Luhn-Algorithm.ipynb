{
 "cells": [
  {
   "cell_type": "code",
   "execution_count": null,
   "id": "a6bfe295",
   "metadata": {},
   "outputs": [],
   "source": [
    "# Get the card number from the user\n",
    "card_number = input(\"Please enter your card number with 15 or 16 digits:\")\n",
    "# Create two lists for different digit cards\n",
    "list_16_digits = [int(i) for i in list(card_number)] \n",
    "list_15_digits = [int(i) for i in list(card_number)]\n",
    "# If credit card number has 16 digit, it validates card number as a visa/master card\n",
    "if len(card_number) == 16:\n",
    "    the_marked_digits = list_16_digits[0:15:2]  # Returns indexes 0, 2, 4, 6, 8, 10, 12, 14\n",
    "    the_unmarked_digits = list_16_digits[1:16:2] # Returns indexes 1, 3, 5, 7, 9, 11, 13, 15\n",
    "    the_new_marked_digits_list = [i * 2 for i in the_marked_digits] # Multiply the marked digits by two \n",
    "# Sum two digit numbers on the new marked digits list and append to the empty list\n",
    "    the_new_marked_digits_list_updated = [] \n",
    "    for v in the_new_marked_digits_list:\n",
    "        sum_1 = 0\n",
    "        for digit in str(v):\n",
    "            sum_1 = sum_1 + int(digit)\n",
    "        the_new_marked_digits_list_updated.append(sum_1)\n",
    "    result1 = sum(the_new_marked_digits_list_updated) + sum(the_unmarked_digits)\n",
    "# If the result divisible by 10, it prints a validation message\n",
    "    if result1%10 == 0:\n",
    "        print(\"The credit card you entered is a valid Visa/Master card.\")\n",
    "# If the result is not divisible by 10, it prints an error message\n",
    "    else:\n",
    "        print(\"The credit card you entered is invalid.\")\n",
    "# If credit card number has 15 digit, it validates card number as an American express card\n",
    "if len(card_number) == 15:\n",
    "    the_marked_digits = list_15_digits[1:14:2] # Returns indexes 1, 3, 5, 7, 9, 11, 13\n",
    "    the_unmarked_digits = list_15_digits[0:15:2] # Returns indexes 0, 2, 4, 6, 8, 10, 12, 14\n",
    "    the_new_marked_digits_list = [i * 2 for i in the_marked_digits] # Multiply the marked digits by two\n",
    "# Sum two digit numbers on the new marked digits list and append to the empty list\n",
    "    the_new_marked_digits_list_updated = []\n",
    "    for v in the_new_marked_digits_list:\n",
    "        sum_1 = 0\n",
    "        for digit in str(v):\n",
    "            sum_1 = sum_1 + int(digit)\n",
    "        the_new_marked_digits_list_updated.append(sum_1)\n",
    "    result2 = sum(the_new_marked_digits_list_updated) + sum(the_unmarked_digits)\n",
    "# If the result divisible by 10,it prints a validation message\n",
    "    if result2%10 == 0:\n",
    "        print(\"The credit card you entered is a valid American Express card.\")\n",
    "# If the result is not divisible by 10, it prints an error message\n",
    "    else:\n",
    "        print(\"The credit card you entered is invalid.\")\n"
   ]
  }
 ],
 "metadata": {
  "kernelspec": {
   "display_name": "Python 3 (ipykernel)",
   "language": "python",
   "name": "python3"
  },
  "language_info": {
   "codemirror_mode": {
    "name": "ipython",
    "version": 3
   },
   "file_extension": ".py",
   "mimetype": "text/x-python",
   "name": "python",
   "nbconvert_exporter": "python",
   "pygments_lexer": "ipython3",
   "version": "3.10.9"
  }
 },
 "nbformat": 4,
 "nbformat_minor": 5
}
